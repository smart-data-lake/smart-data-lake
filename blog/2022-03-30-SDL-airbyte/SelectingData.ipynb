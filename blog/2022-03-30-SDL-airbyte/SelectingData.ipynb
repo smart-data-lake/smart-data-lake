{
  "metadata" : {
    "config" : {
      "dependencies" : {
        "scala" : [
          "file:///mnt/lib/getting-started-1.0.jar"
        ]
      },
      "exclusions" : [
      ],
      "repositories" : [
        {
          "maven" : {
            "base" : "https://oss.sonatype.org/content/repositories/snapshots/"
          }
        }
      ],
      "sparkConfig" : {
        "spark.master" : "local[*]",
        "spark.databricks.delta.snapshotPartitions" : "2"
      },
      "env" : {
        
      }
    },
    "language_info" : {
      "name" : "scala"
    }
  },
  "nbformat" : 4,
  "nbformat_minor" : 0,
  "cells" : [
    {
      "cell_type" : "markdown",
      "execution_count" : 0,
      "metadata" : {
        "language" : "text"
      },
      "language" : "text",
      "source" : [
        "## Show tables with Scala and Spark\n",
        "\n"
      ],
      "outputs" : [
      ]
    },
    {
      "cell_type" : "code",
      "execution_count" : 1,
      "metadata" : {
        "cell.metadata.exec_info" : {
          "startTs" : 1647417408404,
          "endTs" : 1647417409711
        },
        "language" : "scala"
      },
      "language" : "scala",
      "source" : [
        "spark.catalog.listTables.show(false)"
      ],
      "outputs" : [
        {
          "name" : "stdout",
          "text" : [
            "+-----------+--------+-----------+---------+-----------+\n",
            "|name       |database|description|tableType|isTemporary|\n",
            "+-----------+--------+-----------+---------+-----------+\n",
            "|stg_commits|default |null       |EXTERNAL |false      |\n",
            "+-----------+--------+-----------+---------+-----------+\n",
            "\n"
          ],
          "output_type" : "stream"
        }
      ]
    },
    {
      "cell_type" : "code",
      "execution_count" : 2,
      "metadata" : {
        "cell.metadata.exec_info" : {
          "startTs" : 1647418045017,
          "endTs" : 1647418045859
        },
        "language" : "scala"
      },
      "language" : "scala",
      "source" : [
        "spark.sql(\"select * from stg_commits\").show"
      ],
      "outputs" : [
        {
          "name" : "stdout",
          "text" : [
            "+--------------------+--------------------+--------------------+--------------------+--------------------+--------------------+--------------------+--------------------+--------------------+--------------------+--------------------+\n",
            "|          repository|          created_at|                 url|                 sha|             node_id|            html_url|        comments_url|              commit|              author|           committer|             parents|\n",
            "+--------------------+--------------------+--------------------+--------------------+--------------------+--------------------+--------------------+--------------------+--------------------+--------------------+--------------------+\n",
            "|smart-data-lake/s...|2021-09-12T19:56:34Z|https://api.githu...|04ba7c43ececcfe4d...|MDY6Q29tbWl0MjAxM...|https://github.co...|https://api.githu...|{{zzeekk, zach.ku...|{zzeekk, 13715754...|{zzeekk, 13715754...|[{5aa1029672fd3db...|\n",
            "|smart-data-lake/s...|2021-09-12T19:55:05Z|https://api.githu...|5aa1029672fd3db37...|MDY6Q29tbWl0MjAxM...|https://github.co...|https://api.githu...|{{zzeekk, zach.ku...|{zzeekk, 13715754...|{zzeekk, 13715754...|[{1ab852c05ee4339...|\n",
            "|smart-data-lake/s...|2021-09-09T05:54:43Z|https://api.githu...|fc5491f42cb8d5f57...|MDY6Q29tbWl0MjAxM...|https://github.co...|https://api.githu...|{{Zach, zach.kull...|{zzeekk, 13715754...|{web-flow, 198644...|[{25c5561923a72e0...|\n",
            "|smart-data-lake/s...|2021-09-08T08:22:14Z|https://api.githu...|a7b98223ecee91e2e...|MDY6Q29tbWl0MjAxM...|https://github.co...|https://api.githu...|{{zzeekk, zach.ku...|{zzeekk, 13715754...|{zzeekk, 13715754...|[{25c5561923a72e0...|\n",
            "|smart-data-lake/s...|2021-09-07T09:26:52Z|https://api.githu...|25c5561923a72e008...|MDY6Q29tbWl0MjAxM...|https://github.co...|https://api.githu...|{{pgruetter, patr...|{pgruetter, 61217...|{web-flow, 198644...|[{1ab852c05ee4339...|\n",
            "|smart-data-lake/s...|2021-09-07T09:12:58Z|https://api.githu...|4f59c8d39ba1a93b3...|MDY6Q29tbWl0MjAxM...|https://github.co...|https://api.githu...|{{zzeekk, zach.ku...|{zzeekk, 13715754...|{zzeekk, 13715754...|[{1ab852c05ee4339...|\n",
            "|smart-data-lake/s...|2021-08-26T06:07:24Z|https://api.githu...|657ae5cf08266ac43...|MDY6Q29tbWl0MjAxM...|https://github.co...|https://api.githu...|{{zzeekk, zach.ku...|{zzeekk, 13715754...|{zzeekk, 13715754...|[{1ab852c05ee4339...|\n",
            "|smart-data-lake/s...|2021-08-30T19:10:46Z|https://api.githu...|1ab852c05ee43391e...|MDY6Q29tbWl0MjAxM...|https://github.co...|https://api.githu...|{{pgruetter, patr...|{pgruetter, 61217...|{web-flow, 198644...|[{3e922f9089ef05e...|\n",
            "|smart-data-lake/s...|2021-08-30T15:47:36Z|https://api.githu...|600706a02abe1ed4f...|MDY6Q29tbWl0MjAxM...|https://github.co...|https://api.githu...|{{Hiltpold Matthi...|                null|                null|[{3e922f9089ef05e...|\n",
            "|smart-data-lake/s...|2021-08-27T11:40:15Z|https://api.githu...|3e922f9089ef05e0f...|MDY6Q29tbWl0MjAxM...|https://github.co...|https://api.githu...|{{Zach, zach.kull...|{zzeekk, 13715754...|{web-flow, 198644...|[{ebb55f9d77bde39...|\n",
            "|smart-data-lake/s...|2021-08-26T06:29:06Z|https://api.githu...|b31907b61b8d16ad9...|MDY6Q29tbWl0MjAxM...|https://github.co...|https://api.githu...|{{zzeekk, zach.ku...|{zzeekk, 13715754...|{zzeekk, 13715754...|[{b53bc67636bbfed...|\n",
            "|smart-data-lake/s...|2021-08-25T19:22:15Z|https://api.githu...|b53bc67636bbfedef...|MDY6Q29tbWl0MjAxM...|https://github.co...|https://api.githu...|{{zzeekk, zach.ku...|{zzeekk, 13715754...|{zzeekk, 13715754...|[{ebb55f9d77bde39...|\n",
            "|smart-data-lake/s...|2021-08-25T06:14:51Z|https://api.githu...|ebb55f9d77bde396d...|MDY6Q29tbWl0MjAxM...|https://github.co...|https://api.githu...|{{Zach, zach.kull...|{zzeekk, 13715754...|{web-flow, 198644...|[{972c57a1fa8bec1...|\n",
            "|smart-data-lake/s...|2021-08-18T12:58:55Z|https://api.githu...|5ed4059422176185d...|MDY6Q29tbWl0MjAxM...|https://github.co...|https://api.githu...|{{zzeekk, zach.ku...|{zzeekk, 13715754...|{zzeekk, 13715754...|[{972c57a1fa8bec1...|\n",
            "|smart-data-lake/s...|2021-08-24T07:58:12Z|https://api.githu...|972c57a1fa8bec135...|MDY6Q29tbWl0MjAxM...|https://github.co...|https://api.githu...|{{Zach, zach.kull...|{zzeekk, 13715754...|{web-flow, 198644...|[{eb7efa7f17441a5...|\n",
            "|smart-data-lake/s...|2021-08-19T06:18:12Z|https://api.githu...|84df04e5009f39cd1...|MDY6Q29tbWl0MjAxM...|https://github.co...|https://api.githu...|{{zzeekk, zach.ku...|{zzeekk, 13715754...|{zzeekk, 13715754...|[{198837c0942ca48...|\n",
            "|smart-data-lake/s...|2021-08-19T06:17:25Z|https://api.githu...|198837c0942ca48fb...|MDY6Q29tbWl0MjAxM...|https://github.co...|https://api.githu...|{{zzeekk, zach.ku...|{zzeekk, 13715754...|{zzeekk, 13715754...|[{add7ebb872a4f78...|\n",
            "|smart-data-lake/s...|2021-08-20T13:03:27Z|https://api.githu...|eb7efa7f17441a504...|MDY6Q29tbWl0MjAxM...|https://github.co...|https://api.githu...|{{pgruetter, patr...|{pgruetter, 61217...|{web-flow, 198644...|[{a4d761b2951948a...|\n",
            "|smart-data-lake/s...|2021-08-20T12:37:49Z|https://api.githu...|964bbffabcde03292...|MDY6Q29tbWl0MjAxM...|https://github.co...|https://api.githu...|{{pgruetter, patr...|{pgruetter, 61217...|{pgruetter, 61217...|[{bc41b99eb0ed96f...|\n",
            "|smart-data-lake/s...|2021-08-20T11:53:09Z|https://api.githu...|a4d761b2951948a17...|MDY6Q29tbWl0MjAxM...|https://github.co...|https://api.githu...|{{pgruetter, patr...|{pgruetter, 61217...|{web-flow, 198644...|[{53b97e0f13ac7ed...|\n",
            "+--------------------+--------------------+--------------------+--------------------+--------------------+--------------------+--------------------+--------------------+--------------------+--------------------+--------------------+\n",
            "only showing top 20 rows\n",
            "\n"
          ],
          "output_type" : "stream"
        }
      ]
    },
    {
      "cell_type" : "code",
      "execution_count" : 3,
      "metadata" : {
        "cell.metadata.exec_info" : {
          "startTs" : 1647417961450,
          "endTs" : 1647417961790
        },
        "language" : "scala"
      },
      "language" : "scala",
      "source" : [
        "// import smartdatalake\r\n",
        "import io.smartdatalake.config.SdlConfigObject.stringToDataObjectId\r\n",
        "import io.smartdatalake.config.ConfigToolbox\r\n",
        "import io.smartdatalake.workflow.dataobject._\r\n",
        "import io.smartdatalake.workflow.ActionPipelineContext\r\n",
        "import io.smartdatalake.workflow.action.SDLExecutionId\r\n",
        "import io.smartdatalake.app.SmartDataLakeBuilderConfig\r\n",
        "import io.smartdatalake.workflow.ExecutionPhase\r\n",
        "implicit val ss = spark // make Spark session available implicitly"
      ],
      "outputs" : [
      ]
    },
    {
      "cell_type" : "code",
      "execution_count" : 4,
      "metadata" : {
        "cell.metadata.exec_info" : {
          "startTs" : 1647417962880,
          "endTs" : 1647417966648
        },
        "language" : "scala"
      },
      "language" : "scala",
      "source" : [
        "// read config from mounted directory\r\n",
        "val (registry, globalConfig) = ConfigToolbox.loadAndParseConfig(Seq(\"/mnt/config\"), Some(this.getClass.getClassLoader))\r\n",
        "// Create the context used by SDL objects\r\n",
        "implicit val context = ConfigToolbox.getDefaultActionPipelineContext(spark, registry)"
      ],
      "outputs" : [
      ]
    },
    {
      "cell_type" : "code",
      "execution_count" : 5,
      "metadata" : {
        "cell.metadata.exec_info" : {
          "startTs" : 1647417966658,
          "endTs" : 1647417967300
        },
        "language" : "scala"
      },
      "language" : "scala",
      "source" : [
        "var commits = registry.get[DeltaLakeTableDataObject](\"stg-commits\").getDataFrame()"
      ],
      "outputs" : [
      ]
    },
    {
      "cell_type" : "code",
      "execution_count" : 7,
      "metadata" : {
        "cell.metadata.exec_info" : {
          "startTs" : 1647418059040,
          "endTs" : 1647418059316
        },
        "language" : "scala"
      },
      "language" : "scala",
      "source" : [
        "commits.printSchema()"
      ],
      "outputs" : [
        {
          "name" : "stdout",
          "text" : [
            "root\n",
            " |-- repository: string (nullable = true)\n",
            " |-- created_at: string (nullable = true)\n",
            " |-- url: string (nullable = true)\n",
            " |-- sha: string (nullable = true)\n",
            " |-- node_id: string (nullable = true)\n",
            " |-- html_url: string (nullable = true)\n",
            " |-- comments_url: string (nullable = true)\n",
            " |-- commit: struct (nullable = true)\n",
            " |    |-- author: struct (nullable = true)\n",
            " |    |    |-- name: string (nullable = true)\n",
            " |    |    |-- email: string (nullable = true)\n",
            " |    |    |-- date: string (nullable = true)\n",
            " |    |-- committer: struct (nullable = true)\n",
            " |    |    |-- name: string (nullable = true)\n",
            " |    |    |-- email: string (nullable = true)\n",
            " |    |    |-- date: string (nullable = true)\n",
            " |    |-- message: string (nullable = true)\n",
            " |    |-- tree: struct (nullable = true)\n",
            " |    |    |-- sha: string (nullable = true)\n",
            " |    |    |-- url: string (nullable = true)\n",
            " |    |-- url: string (nullable = true)\n",
            " |    |-- comment_count: long (nullable = true)\n",
            " |    |-- verification: struct (nullable = true)\n",
            " |    |    |-- verified: boolean (nullable = true)\n",
            " |    |    |-- reason: string (nullable = true)\n",
            " |    |    |-- signature: string (nullable = true)\n",
            " |    |    |-- payload: string (nullable = true)\n",
            " |-- author: struct (nullable = true)\n",
            " |    |-- login: string (nullable = true)\n",
            " |    |-- id: long (nullable = true)\n",
            " |    |-- node_id: string (nullable = true)\n",
            " |    |-- avatar_url: string (nullable = true)\n",
            " |    |-- gravatar_id: string (nullable = true)\n",
            " |    |-- url: string (nullable = true)\n",
            " |    |-- html_url: string (nullable = true)\n",
            " |    |-- followers_url: string (nullable = true)\n",
            " |    |-- following_url: string (nullable = true)\n",
            " |    |-- gists_url: string (nullable = true)\n",
            " |    |-- starred_url: string (nullable = true)\n",
            " |    |-- subscriptions_url: string (nullable = true)\n",
            " |    |-- organizations_url: string (nullable = true)\n",
            " |    |-- repos_url: string (nullable = true)\n",
            " |    |-- events_url: string (nullable = true)\n",
            " |    |-- received_events_url: string (nullable = true)\n",
            " |    |-- type: string (nullable = true)\n",
            " |    |-- site_admin: boolean (nullable = true)\n",
            " |-- committer: struct (nullable = true)\n",
            " |    |-- login: string (nullable = true)\n",
            " |    |-- id: long (nullable = true)\n",
            " |    |-- node_id: string (nullable = true)\n",
            " |    |-- avatar_url: string (nullable = true)\n",
            " |    |-- gravatar_id: string (nullable = true)\n",
            " |    |-- url: string (nullable = true)\n",
            " |    |-- html_url: string (nullable = true)\n",
            " |    |-- followers_url: string (nullable = true)\n",
            " |    |-- following_url: string (nullable = true)\n",
            " |    |-- gists_url: string (nullable = true)\n",
            " |    |-- starred_url: string (nullable = true)\n",
            " |    |-- subscriptions_url: string (nullable = true)\n",
            " |    |-- organizations_url: string (nullable = true)\n",
            " |    |-- repos_url: string (nullable = true)\n",
            " |    |-- events_url: string (nullable = true)\n",
            " |    |-- received_events_url: string (nullable = true)\n",
            " |    |-- type: string (nullable = true)\n",
            " |    |-- site_admin: boolean (nullable = true)\n",
            " |-- parents: array (nullable = true)\n",
            " |    |-- element: struct (containsNull = true)\n",
            " |    |    |-- sha: string (nullable = true)\n",
            " |    |    |-- url: string (nullable = true)\n",
            " |    |    |-- html_url: string (nullable = true)\n",
            "\n"
          ],
          "output_type" : "stream"
        }
      ]
    },
    {
      "cell_type" : "code",
      "execution_count" : 11,
      "metadata" : {
        "cell.metadata.exec_info" : {
          "startTs" : 1647418558078,
          "endTs" : 1647418559222
        },
        "language" : "scala"
      },
      "language" : "scala",
      "source" : [
        "commits.where(!($\"committer.login\" === $\"author.login\")).\r\n",
        "    where(!($\"committer.login\" === \"web-flow\")).\r\n",
        "    select($\"created_at\", $\"sha\", $\"committer.login\", $\"author.login\").show()"
      ],
      "outputs" : [
        {
          "name" : "stdout",
          "text" : [
            "+--------------------+--------------------+------+-------------+\n",
            "|          created_at|                 sha| login|        login|\n",
            "+--------------------+--------------------+------+-------------+\n",
            "|2021-02-25T11:02:23Z|26d8b74c14825e76d...|zzeekk|MarkusRothSBB|\n",
            "|2021-02-23T09:48:36Z|3c4fee58421162f6c...|zzeekk|MarkusRothSBB|\n",
            "|2021-02-23T09:47:15Z|ad7ac5524f5f4133c...|zzeekk|MarkusRothSBB|\n",
            "+--------------------+--------------------+------+-------------+\n",
            "\n"
          ],
          "output_type" : "stream"
        }
      ]
    }
  ]
}